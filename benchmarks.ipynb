{
 "cells": [
  {
   "cell_type": "code",
   "execution_count": null,
   "metadata": {},
   "outputs": [],
   "source": [
    "# imports\n",
    "from matplotlib import pyplot as plt\n",
    "from compression_handler.jpeg import JPEG\n",
    "from eval_handler.pixelwise import Pixelwise\n",
    "from dataset_handler.kodak import Kodak\n",
    "from tqdm import tqdm\n",
    "\n",
    "compression_algorithms = [JPEG()]\n",
    "eval_algorithms = [Pixelwise()]\n",
    "dataset = Kodak()\n",
    "SAMPLES = 5\n",
    "SIZE_RANGE = range(236501, 736502, 10000)"
   ]
  },
  {
   "cell_type": "code",
   "execution_count": null,
   "metadata": {},
   "outputs": [],
   "source": [
    "plot, ax = plt.subplots(1, len(eval_algorithms), figsize=(15, 5))\n",
    "\n",
    "\n",
    "samples = dataset.get_samples(SAMPLES).itertuples()\n",
    "for index, eval_algorithm in enumerate(eval_algorithms):\n",
    "    print(f\"Running evaluation for {eval_algorithm.name}\")\n",
    "    for compression_algorithm in tqdm(compression_algorithms):\n",
    "        results = []\n",
    "        for i in samples:\n",
    "            for size in SIZE_RANGE:\n",
    "                compressed = compression_algorithm.compress(samples[i], size)\n",
    "                decompressed = compression_algorithm.decompress(compressed)\n"
   ]
  }
 ],
 "metadata": {
  "kernelspec": {
   "display_name": "Python 3",
   "language": "python",
   "name": "python3"
  },
  "language_info": {
   "name": "python",
   "version": "3.11.4"
  }
 },
 "nbformat": 4,
 "nbformat_minor": 2
}
