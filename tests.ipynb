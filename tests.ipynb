{
 "cells": [
  {
   "cell_type": "code",
   "execution_count": 1,
   "metadata": {},
   "outputs": [
    {
     "name": "stdout",
     "output_type": "stream",
     "text": [
      "Kodak\n",
      "Pandas(Index=11, img='kodim12.png', category='realism')\n",
      "(768, 512)\n",
      "realism\n",
      "Pandas(Index=2, img='kodim03.png', category='realism')\n",
      "(768, 512)\n",
      "realism\n"
     ]
    }
   ],
   "source": [
    "################## KODAK DATASET ##################\n",
    "from dataset_handler.kodak import Kodak\n",
    "\n",
    "\n",
    "dataset = Kodak()\n",
    "print(dataset.name)\n",
    "samples = dataset.get_samples(2).itertuples()\n",
    "for row in samples:\n",
    "    print(row)\n",
    "    print(dataset.get_PIL_image(row).size)\n",
    "    print(dataset.get_image_class(row))\n",
    "\n"
   ]
  },
  {
   "cell_type": "code",
   "execution_count": 2,
   "metadata": {},
   "outputs": [
    {
     "name": "stdout",
     "output_type": "stream",
     "text": [
      "Image size: 736501 bytes\n"
     ]
    }
   ],
   "source": [
    "################## KODAK IMAGE SIZE ##################\n",
    "def get_image_size_bytes(Image_path):\n",
    "    with open(Image_path, \"rb\") as image:\n",
    "        return len(image.read())\n",
    "    \n",
    "image_path = \"datasets\\kaggle_Kodak\\kodim01.png\"\n",
    "image_size = get_image_size_bytes(image_path)\n",
    "print(f\"Image size: {image_size} bytes\")\n"
   ]
  },
  {
   "cell_type": "code",
   "execution_count": 6,
   "metadata": {},
   "outputs": [
    {
     "name": "stdout",
     "output_type": "stream",
     "text": [
      "135.42253028021918\n"
     ]
    }
   ],
   "source": [
    "################## SCORE_IMAGE_COMPRESSION ##################\n",
    "from utils import score_image_compression\n",
    "from PIL import Image\n",
    "from compression_handler.jpeg import JPEG\n",
    "from eval_handler.pixelwise import Pixelwise\n",
    "image_path = \"datasets\\kaggle_Kodak\\kodim01.png\"\n",
    "pil_image = Image.open(image_path)\n",
    "max_size = 31501\n",
    "compression_handler = JPEG()\n",
    "eval_handler = Pixelwise()\n",
    "pil_image.save(\"org_10.jpg\", \"JPEG\", quality=100)\n",
    "score = score_image_compression(pil_image, max_size, compression_handler, eval_handler)\n",
    "print(score)\n"
   ]
  }
 ],
 "metadata": {
  "kernelspec": {
   "display_name": "base",
   "language": "python",
   "name": "python3"
  },
  "language_info": {
   "codemirror_mode": {
    "name": "ipython",
    "version": 3
   },
   "file_extension": ".py",
   "mimetype": "text/x-python",
   "name": "python",
   "nbconvert_exporter": "python",
   "pygments_lexer": "ipython3",
   "version": "3.11.4"
  }
 },
 "nbformat": 4,
 "nbformat_minor": 2
}
