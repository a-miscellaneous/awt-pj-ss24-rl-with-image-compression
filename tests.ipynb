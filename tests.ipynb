{
 "cells": [
  {
   "cell_type": "code",
   "execution_count": 1,
   "metadata": {},
   "outputs": [
    {
     "name": "stdout",
     "output_type": "stream",
     "text": [
      "Kodak\n",
      "Pandas(Index=16, img='kodim17.png', category='realism')\n",
      "(512, 768)\n",
      "realism\n",
      "Pandas(Index=9, img='kodim10.png', category='realism')\n",
      "(512, 768)\n",
      "realism\n",
      "Pandas(Index=21, img='kodim22.png', category='realism')\n",
      "(768, 512)\n",
      "realism\n",
      "Pandas(Index=10, img='kodim11.png', category='realism')\n",
      "(768, 512)\n",
      "realism\n",
      "Pandas(Index=20, img='kodim21.png', category='realism')\n",
      "(768, 512)\n",
      "realism\n"
     ]
    }
   ],
   "source": [
    "################## KODAK DATASET TEST ##################\n",
    "from dataset_handler.kodak import Kodak\n",
    "\n",
    "\n",
    "dataset = Kodak()\n",
    "print(dataset.name)\n",
    "samples = dataset.get_samples(5).itertuples()\n",
    "for row in samples:\n",
    "    print(row)\n",
    "    print(dataset.get_PIL_image(row).size)\n",
    "    print(dataset.get_image_class(row))\n",
    "\n"
   ]
  }
 ],
 "metadata": {
  "kernelspec": {
   "display_name": "base",
   "language": "python",
   "name": "python3"
  },
  "language_info": {
   "codemirror_mode": {
    "name": "ipython",
    "version": 3
   },
   "file_extension": ".py",
   "mimetype": "text/x-python",
   "name": "python",
   "nbconvert_exporter": "python",
   "pygments_lexer": "ipython3",
   "version": "3.11.4"
  }
 },
 "nbformat": 4,
 "nbformat_minor": 2
}
